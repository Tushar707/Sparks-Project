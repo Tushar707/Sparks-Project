{
  "nbformat": 4,
  "nbformat_minor": 0,
  "metadata": {
    "colab": {
      "name": "linearregression.ipynb",
      "provenance": [],
      "collapsed_sections": [],
      "authorship_tag": "ABX9TyNPPJaF63NjZ7/qOkis+FVk"
    },
    "kernelspec": {
      "name": "python3",
      "display_name": "Python 3"
    }
  },
  "cells": [
    {
      "cell_type": "markdown",
      "metadata": {
        "id": "SN0vNAFO6Jxy"
      },
      "source": [
        "\n",
        "\n",
        "#**Simple Linear Regression**\n",
        "In this regression task we will predict the percentage of marks that a student is expected to score based upon the number of hours they studied. We will see how the Python Scikit-Learn library for machine learning can be used to implement regression functions.\n",
        "# **Importing Necessary Libraries and Data**\n",
        "\n"
      ]
    },
    {
      "cell_type": "code",
      "metadata": {
        "id": "aT518fxM5tdP"
      },
      "source": [
        "import pandas as pd\n",
        "import numpy as np\n",
        "import matplotlib.pyplot as plt\n",
        "%matplotlib inline"
      ],
      "execution_count": 1,
      "outputs": []
    },
    {
      "cell_type": "code",
      "metadata": {
        "id": "x2y2-Xp55te9",
        "outputId": "a5a5961e-5bf4-479c-bdf9-31b737b02864",
        "colab": {
          "base_uri": "https://localhost:8080/",
          "height": 212
        }
      },
      "source": [
        "# Reading data from remote link\n",
        "url='http://bit.ly/w-data'\n",
        "df=pd.read_csv(url)\n",
        "print('Data successfully read')\n",
        "df.head()"
      ],
      "execution_count": 2,
      "outputs": [
        {
          "output_type": "stream",
          "text": [
            "Data successfully read\n"
          ],
          "name": "stdout"
        },
        {
          "output_type": "execute_result",
          "data": {
            "text/html": [
              "<div>\n",
              "<style scoped>\n",
              "    .dataframe tbody tr th:only-of-type {\n",
              "        vertical-align: middle;\n",
              "    }\n",
              "\n",
              "    .dataframe tbody tr th {\n",
              "        vertical-align: top;\n",
              "    }\n",
              "\n",
              "    .dataframe thead th {\n",
              "        text-align: right;\n",
              "    }\n",
              "</style>\n",
              "<table border=\"1\" class=\"dataframe\">\n",
              "  <thead>\n",
              "    <tr style=\"text-align: right;\">\n",
              "      <th></th>\n",
              "      <th>Hours</th>\n",
              "      <th>Scores</th>\n",
              "    </tr>\n",
              "  </thead>\n",
              "  <tbody>\n",
              "    <tr>\n",
              "      <th>0</th>\n",
              "      <td>2.5</td>\n",
              "      <td>21</td>\n",
              "    </tr>\n",
              "    <tr>\n",
              "      <th>1</th>\n",
              "      <td>5.1</td>\n",
              "      <td>47</td>\n",
              "    </tr>\n",
              "    <tr>\n",
              "      <th>2</th>\n",
              "      <td>3.2</td>\n",
              "      <td>27</td>\n",
              "    </tr>\n",
              "    <tr>\n",
              "      <th>3</th>\n",
              "      <td>8.5</td>\n",
              "      <td>75</td>\n",
              "    </tr>\n",
              "    <tr>\n",
              "      <th>4</th>\n",
              "      <td>3.5</td>\n",
              "      <td>30</td>\n",
              "    </tr>\n",
              "  </tbody>\n",
              "</table>\n",
              "</div>"
            ],
            "text/plain": [
              "   Hours  Scores\n",
              "0    2.5      21\n",
              "1    5.1      47\n",
              "2    3.2      27\n",
              "3    8.5      75\n",
              "4    3.5      30"
            ]
          },
          "metadata": {
            "tags": []
          },
          "execution_count": 2
        }
      ]
    },
    {
      "cell_type": "markdown",
      "metadata": {
        "id": "29IHTrFPSLKK"
      },
      "source": [
        "## **Exploratory Data Analysis**"
      ]
    },
    {
      "cell_type": "code",
      "metadata": {
        "id": "jg3TpwuiSMYK",
        "outputId": "282332fd-e3d3-4937-82f6-8abc268b7f1f",
        "colab": {
          "base_uri": "https://localhost:8080/",
          "height": 284
        }
      },
      "source": [
        "df.describe()"
      ],
      "execution_count": 3,
      "outputs": [
        {
          "output_type": "execute_result",
          "data": {
            "text/html": [
              "<div>\n",
              "<style scoped>\n",
              "    .dataframe tbody tr th:only-of-type {\n",
              "        vertical-align: middle;\n",
              "    }\n",
              "\n",
              "    .dataframe tbody tr th {\n",
              "        vertical-align: top;\n",
              "    }\n",
              "\n",
              "    .dataframe thead th {\n",
              "        text-align: right;\n",
              "    }\n",
              "</style>\n",
              "<table border=\"1\" class=\"dataframe\">\n",
              "  <thead>\n",
              "    <tr style=\"text-align: right;\">\n",
              "      <th></th>\n",
              "      <th>Hours</th>\n",
              "      <th>Scores</th>\n",
              "    </tr>\n",
              "  </thead>\n",
              "  <tbody>\n",
              "    <tr>\n",
              "      <th>count</th>\n",
              "      <td>25.000000</td>\n",
              "      <td>25.000000</td>\n",
              "    </tr>\n",
              "    <tr>\n",
              "      <th>mean</th>\n",
              "      <td>5.012000</td>\n",
              "      <td>51.480000</td>\n",
              "    </tr>\n",
              "    <tr>\n",
              "      <th>std</th>\n",
              "      <td>2.525094</td>\n",
              "      <td>25.286887</td>\n",
              "    </tr>\n",
              "    <tr>\n",
              "      <th>min</th>\n",
              "      <td>1.100000</td>\n",
              "      <td>17.000000</td>\n",
              "    </tr>\n",
              "    <tr>\n",
              "      <th>25%</th>\n",
              "      <td>2.700000</td>\n",
              "      <td>30.000000</td>\n",
              "    </tr>\n",
              "    <tr>\n",
              "      <th>50%</th>\n",
              "      <td>4.800000</td>\n",
              "      <td>47.000000</td>\n",
              "    </tr>\n",
              "    <tr>\n",
              "      <th>75%</th>\n",
              "      <td>7.400000</td>\n",
              "      <td>75.000000</td>\n",
              "    </tr>\n",
              "    <tr>\n",
              "      <th>max</th>\n",
              "      <td>9.200000</td>\n",
              "      <td>95.000000</td>\n",
              "    </tr>\n",
              "  </tbody>\n",
              "</table>\n",
              "</div>"
            ],
            "text/plain": [
              "           Hours     Scores\n",
              "count  25.000000  25.000000\n",
              "mean    5.012000  51.480000\n",
              "std     2.525094  25.286887\n",
              "min     1.100000  17.000000\n",
              "25%     2.700000  30.000000\n",
              "50%     4.800000  47.000000\n",
              "75%     7.400000  75.000000\n",
              "max     9.200000  95.000000"
            ]
          },
          "metadata": {
            "tags": []
          },
          "execution_count": 3
        }
      ]
    },
    {
      "cell_type": "code",
      "metadata": {
        "id": "NneIYhXunrbP",
        "outputId": "1d2578c3-f0f9-4ecc-ea69-b0ea59752a1f",
        "colab": {
          "base_uri": "https://localhost:8080/"
        }
      },
      "source": [
        "print(df.corr())\n",
        "print('\\n')\n",
        "print('Here we can see a strong positive correlation in our data')"
      ],
      "execution_count": 4,
      "outputs": [
        {
          "output_type": "stream",
          "text": [
            "           Hours    Scores\n",
            "Hours   1.000000  0.976191\n",
            "Scores  0.976191  1.000000\n",
            "\n",
            "\n",
            "Here we can see a strong positive correlation in our data\n"
          ],
          "name": "stdout"
        }
      ]
    },
    {
      "cell_type": "markdown",
      "metadata": {
        "id": "YqecQeDLRpXM"
      },
      "source": [
        "Let's plot a scatterplot to visualize the relationship between our data. Here we use hours studied as a **independent variable**(x-axis) and Percentage score as **dependent variable**(y-axis)"
      ]
    },
    {
      "cell_type": "code",
      "metadata": {
        "id": "vPWw1fFJR-5Z",
        "outputId": "c62c4c01-cced-4810-8eca-c68436579991",
        "colab": {
          "base_uri": "https://localhost:8080/",
          "height": 376
        }
      },
      "source": [
        "plt.style.use('seaborn')\n",
        "df.plot(x='Hours',y='Scores',kind='scatter',s=40)\n",
        "plt.xlabel('Hours studied')\n",
        "plt.ylabel('Percentage score')\n",
        "plt.title('Hours vs Percentage');"
      ],
      "execution_count": 5,
      "outputs": [
        {
          "output_type": "display_data",
          "data": {
            "image/png": "[encoded data removed]",
            "text/plain": [
              "<Figure size 576x396 with 1 Axes>"
            ]
          },
          "metadata": {
            "tags": []
          }
        }
      ]
    },
    {
      "cell_type": "markdown",
      "metadata": {
        "id": "mMKdLZYOWnjY"
      },
      "source": [
        "From the graph above, we can see that there is a positive linear relation between hours studied and percentage of score."
      ]
    },
    {
      "cell_type": "markdown",
      "metadata": {
        "id": "eu_8pXS0e_KO"
      },
      "source": [
        "# **Preparing the data**\n",
        "\n",
        "First step in preparation of data will be to divide our data inputs and outputs.\n"
      ]
    },
    {
      "cell_type": "code",
      "metadata": {
        "id": "WO4zm_5SgORl"
      },
      "source": [
        "X=df[['Hours']].values\n",
        "y=df['Scores'].values"
      ],
      "execution_count": 6,
      "outputs": []
    },
    {
      "cell_type": "markdown",
      "metadata": {
        "id": "iuUzMPL7LYUc"
      },
      "source": [
        "Now that we have our attributes and labels, the next step is to split this data into training and test sets. We'll do this by using Scikit-Learn's built-in train_test_split() method:"
      ]
    },
    {
      "cell_type": "code",
      "metadata": {
        "id": "TW4w6dRNgPra"
      },
      "source": [
        "from sklearn.model_selection import train_test_split\n",
        "X_train, X_test, y_train, y_test = train_test_split( X, y, test_size=0.2, random_state=42)\n"
      ],
      "execution_count": 7,
      "outputs": []
    },
    {
      "cell_type": "markdown",
      "metadata": {
        "id": "iMOPbjRzLj-A"
      },
      "source": [
        "## **Training the algorithm**"
      ]
    },
    {
      "cell_type": "code",
      "metadata": {
        "id": "uCMSgMwPp9OZ",
        "outputId": "316a6f99-622a-4b4c-b74a-90853a718e17",
        "colab": {
          "base_uri": "https://localhost:8080/"
        }
      },
      "source": [
        "from sklearn.linear_model import LinearRegression\n",
        "regressor=LinearRegression()\n",
        "regressor.fit(X_train,y_train)"
      ],
      "execution_count": 8,
      "outputs": [
        {
          "output_type": "execute_result",
          "data": {
            "text/plain": [
              "LinearRegression(copy_X=True, fit_intercept=True, n_jobs=None, normalize=False)"
            ]
          },
          "metadata": {
            "tags": []
          },
          "execution_count": 8
        }
      ]
    },
    {
      "cell_type": "code",
      "metadata": {
        "id": "OCKYgGYK2yof",
        "outputId": "e0cfee34-53f0-42b4-92ec-ac5e97d19d3e",
        "colab": {
          "base_uri": "https://localhost:8080/",
          "height": 376
        }
      },
      "source": [
        "# Plotting test data \n",
        "plt.scatter(X_train, y_train)\n",
        "# Plotting regression line\n",
        "plt.plot(X_train, regressor.predict(X_train), color='black')\n",
        "plt.title('Fit on training set')\n",
        "plt.xlabel('X-Train')\n",
        "plt.ylabel('Y-Train');"
      ],
      "execution_count": 9,
      "outputs": [
        {
          "output_type": "display_data",
          "data": {
            "image/png": "[encoded data removed]",
            "text/plain": [
              "<Figure size 576x396 with 1 Axes>"
            ]
          },
          "metadata": {
            "tags": []
          }
        }
      ]
    },
    {
      "cell_type": "markdown",
      "metadata": {
        "id": "H6EDkD1E3-zf"
      },
      "source": [
        "# **Making Predictions**\n",
        "Now that we have trained our algorithm, it's time to make some predictions."
      ]
    },
    {
      "cell_type": "code",
      "metadata": {
        "id": "DcEceZ732ziW"
      },
      "source": [
        "y_pred=regressor.predict(X_test) # Predicting scores"
      ],
      "execution_count": 10,
      "outputs": []
    },
    {
      "cell_type": "code",
      "metadata": {
        "id": "azvKRhL-32cv",
        "outputId": "744c01af-559a-4a51-a442-4c799397cf59",
        "colab": {
          "base_uri": "https://localhost:8080/"
        }
      },
      "source": [
        "# Comparing actual vs predicted score\n",
        "pred_df=pd.DataFrame({'Hours':X_test.flatten(),'Actual_score':y_test,'Predicted_score':y_pred})\n",
        "print(pred_df)"
      ],
      "execution_count": 11,
      "outputs": [
        {
          "output_type": "stream",
          "text": [
            "   Hours  Actual_score  Predicted_score\n",
            "0    8.3            81        83.188141\n",
            "1    2.5            30        27.032088\n",
            "2    2.5            21        27.032088\n",
            "3    6.9            76        69.633232\n",
            "4    5.9            62        59.951153\n"
          ],
          "name": "stdout"
        }
      ]
    },
    {
      "cell_type": "markdown",
      "metadata": {
        "id": "NuBQF9uEDEKF"
      },
      "source": [
        "**Simple Mathematics behind this model prediction**\n",
        "\n",
        "Predicted_score= hours*coefficient + Intercept"
      ]
    },
    {
      "cell_type": "code",
      "metadata": {
        "id": "uXuovLGbDghg",
        "outputId": "edc12651-f821-4411-f33c-0c1f1ced3661",
        "colab": {
          "base_uri": "https://localhost:8080/"
        }
      },
      "source": [
        "# Lets find intecept and coefficiant\n",
        "Intercept=regressor.intercept_\n",
        "coef=regressor.coef_\n",
        "# Lets predict the score for the first value in dataframe pred_df\n",
        "pred_maths= pred_df.iloc[0,0]*coef+Intercept\n",
        "print('Manually predicted score using formulae = {}'.format(pred_maths[0]))\n",
        "print('\\n')\n",
        "print('Prediction done using regression model = {}'.format(pred_df.iloc[0,2]))\n",
        "\n"
      ],
      "execution_count": 12,
      "outputs": [
        {
          "output_type": "stream",
          "text": [
            "Manually predicted score using formulae = 83.18814103588203\n",
            "\n",
            "\n",
            "Prediction done using regression model = 83.18814103588203\n"
          ],
          "name": "stdout"
        }
      ]
    },
    {
      "cell_type": "markdown",
      "metadata": {
        "id": "a99-msIAKga0"
      },
      "source": [
        "**What will be predicted score if a student studies for 9.25 hrs/ day?**\n",
        "\n",
        "Let's find out."
      ]
    },
    {
      "cell_type": "code",
      "metadata": {
        "id": "xI8N2PFN32ec",
        "outputId": "9c6b5f94-8387-4e75-a8e9-8870aa9eb711",
        "colab": {
          "base_uri": "https://localhost:8080/"
        }
      },
      "source": [
        "hours= [[9.5]]\n",
        "pred=regressor.predict(hours)\n",
        "print('No of hours = {} \\nPredicted score = {}'.format(hours[0][0],pred[0]))"
      ],
      "execution_count": 16,
      "outputs": [
        {
          "output_type": "stream",
          "text": [
            "No of hours = 9.5 \n",
            "Predicted score = 94.80663482122885\n"
          ],
          "name": "stdout"
        }
      ]
    },
    {
      "cell_type": "markdown",
      "metadata": {
        "id": "c7jsDObf_SAi"
      },
      "source": [
        "# **Evaluating the Model**\n",
        "The final step is to evaluate the performance of algorithm. This step is particularly important to compare how well different algorithms perform on a particular dataset."
      ]
    },
    {
      "cell_type": "code",
      "metadata": {
        "id": "wlzY0T-g7FrT",
        "outputId": "741a7c9f-f162-4e7a-fb08-d5527e6daa1e",
        "colab": {
          "base_uri": "https://localhost:8080/"
        }
      },
      "source": [
        "from sklearn import metrics\n",
        "print('Mean Absolute Error:', metrics.mean_absolute_error(y_test, y_pred))\n",
        "print('Mean Squared Error:', metrics.mean_squared_error(y_test, y_pred))\n",
        "print('Root Mean Squared Error:', np.sqrt(metrics.mean_squared_error(y_test, y_pred)))"
      ],
      "execution_count": 17,
      "outputs": [
        {
          "output_type": "stream",
          "text": [
            "Mean Absolute Error: 3.9207511902099244\n",
            "Mean Squared Error: 18.943211722315272\n",
            "Root Mean Squared Error: 4.352380006653288\n"
          ],
          "name": "stdout"
        }
      ]
    },
    {
      "cell_type": "code",
      "metadata": {
        "id": "Dlw06TH37Znh"
      },
      "source": [
        ""
      ],
      "execution_count": null,
      "outputs": []
    }
  ]
}
